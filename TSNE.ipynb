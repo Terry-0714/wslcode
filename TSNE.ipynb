{
 "cells": [
  {
   "cell_type": "code",
   "execution_count": null,
   "metadata": {},
   "outputs": [
    {
     "name": "stdout",
     "output_type": "stream",
     "text": [
      " [i] Start analyzing, total 8 steps...\n",
      " [i] Setting up...\n"
     ]
    }
   ],
   "source": [
    "import time\n",
    "import os\n",
    "import numpy as np\n",
    "import pandas as pd\n",
    "import matplotlib.pyplot as plt\n",
    "import seaborn as sns\n",
    "from scipy.sparse.linalg import svds\n",
    "import pyarrow as pa\n",
    "\n",
    "print(f\" [i] Start analyzing, total 8 steps...\")\n",
    "print(f\" [i] Setting up...\")\n",
    "\n",
    "# 強制 Qt 在 Linux 環境下使用 X11\n",
    "os.environ[\"QT_QPA_PLATFORM\"] = \"xcb\"\n",
    "\n",
    "# 防止 NumPy 佔用過多記憶體\n",
    "os.environ[\"OPENBLAS_NUM_THREADS\"] = \"1\"\n",
    "os.environ[\"MKL_NUM_THREADS\"] = \"1\"\n",
    "\n",
    "# 固定隨機種子確保可重現性\n",
    "np.random.seed(42)\n",
    "os.environ[\"PYTHONHASHSEED\"] = \"42\""
   ]
  },
  {
   "cell_type": "code",
   "execution_count": null,
   "metadata": {},
   "outputs": [
    {
     "name": "stdout",
     "output_type": "stream",
     "text": [
      " [i] Reading HGNC protein coding gene...\n",
      " [i] Ribosomal Protein gene count: 1765\n"
     ]
    }
   ],
   "source": [
    "def load_metadata_labels(metadata_path, df_index, target_tissues=None):\n",
    "    print(f\" [i] Reading tissue metadata...\")\n",
    "    metadata_df = pd.read_csv(metadata_path, sep=\"\\t\", low_memory=False, usecols=[\"SAMPID\", \"SMTSD\"])\n",
    "    metadata_df[\"GTEX_ID\"] = metadata_df[\"SAMPID\"].str.split(\"-\").str[:2].str.join(\"-\")\n",
    "    gtex_tissue_dict = metadata_df.set_index(\"GTEX_ID\")[\"SMTSD\"].to_dict()\n",
    "\n",
    "    sample_ids = df_index.str.split(\"-\").str[:2].str.join(\"-\")\n",
    "    tissue_labels = sample_ids.map(gtex_tissue_dict).fillna(\"Unknown\").tolist()\n",
    "\n",
    "    if target_tissues is not None:\n",
    "        tissue_labels = [label if label in target_tissues else \"Other\" for label in tissue_labels]\n",
    "\n",
    "    return tissue_labels"
   ]
  },
  {
   "cell_type": "code",
   "execution_count": null,
   "metadata": {},
   "outputs": [],
   "source": [
    "def load_hgnc_protein_coding(filepath):\n",
    "    df = pd.read_csv(filepath, sep=\"\\t\")\n",
    "    df = df[df[\"Approved symbol\"].str.startswith((\"RPL\", \"RPS\"), na = False)]\n",
    "    df = df.dropna(subset=[\"Ensembl gene ID\"]) # 確保 Ensembl gene ID 不是 NaN\n",
    "    # print(df)\n",
    "    return dict(zip(df[\"Ensembl gene ID\"], df[\"Approved symbol\"]))\n",
    "\n",
    "# 設定本地 HGNC 資料檔案\n",
    "print(f\" [i] Reading HGNC protein coding gene...\")\n",
    "hgnc_file = r\"~/gct_data/hgnc_protein_coding.tsv\"\n",
    "ensembl_to_symbol = load_hgnc_protein_coding(hgnc_file)\n",
    "print(f\" [i] Ribosomal Protein gene count: {len(ensembl_to_symbol)}\")\n",
    "\n",
    "def load_gct(filepath):\n",
    "    \"\"\"\n",
    "    逐行解析 GCT 檔案，確保數據格式一致，避免記憶體使用過高。\n",
    "    \"\"\"\n",
    "    print(\" [1] Detecting column names...\")\n",
    "    with open(filepath, \"r\") as f:\n",
    "        lines = f.readlines()\n",
    "    header_line = lines[2]  # `.gct` 的標題通常在第 3 行（index 2）\n",
    "    column_names = header_line.strip().split(\"\\t\")\n",
    "    gene_id_column = column_names[0]\n",
    "    print(f\" [2] Detected Gene_ID column: {gene_id_column}\")\n",
    "\n",
    "    print(\" [3] Streaming GCT data...\", end = \"\\n\")\n",
    "    print(\" [i] This may take a few minutes, please wait...\", end = \"\\n\")\n",
    "    def process_chunk(chunk):\n",
    "        chunk = chunk.rename(columns={gene_id_column: \"Gene_ID\"})\n",
    "        chunk[\"Gene_ID\"] = chunk[\"Gene_ID\"].astype(str)\n",
    "        chunk.set_index(\"Gene_ID\", inplace=True)\n",
    "\n",
    "        # 🔹 確保基因 ID 的格式與 ensembl_to_symbol 一致（去掉 .X 後綴）\n",
    "        chunk.index = chunk.index.str.split('.').str[0]\n",
    "\n",
    "        # 🔹 確保 index 不是 None\n",
    "        if chunk.index is None or chunk.empty:\n",
    "            return pd.DataFrame()\n",
    "\n",
    "        return chunk[chunk.index.isin(ensembl_to_symbol)]\n",
    "\n",
    "    chunk_size = 10000\n",
    "    filtered_data = []\n",
    "\n",
    "    with pd.read_csv(filepath, sep=\"\\t\", skiprows=2, chunksize=chunk_size) as reader:\n",
    "        for chunk in reader:\n",
    "            processed_chunk = process_chunk(chunk)\n",
    "            filtered_data.append(pa.Table.from_pandas(processed_chunk))\n",
    "\n",
    "    print(\" [4] Merging processed data...\")\n",
    "    final_table = pa.concat_tables(filtered_data)\n",
    "    df = final_table.to_pandas()\n",
    "    if \"Description\" in df.columns:\n",
    "        df.drop(columns=[\"Description\"], inplace=True)\n",
    "    df = df.T\n",
    "    \n",
    "    print(df.shape)\n",
    "    \n",
    "    return df"
   ]
  },
  {
   "cell_type": "code",
   "execution_count": null,
   "metadata": {},
   "outputs": [],
   "source": [
    "# 預處理數據\n",
    "def preprocess_data(df):\n",
    "    print(\" [5] Pre-processing data...\")\n",
    "    from sklearn.preprocessing import StandardScaler\n",
    "    scaler = StandardScaler()\n",
    "    df = df.select_dtypes(include=[np.number])  # 只保留數值欄位\n",
    "    data_scaled = scaler.fit_transform(df)\n",
    "    return data_scaled, data_scaled.shape"
   ]
  },
  {
   "cell_type": "code",
   "execution_count": null,
   "metadata": {},
   "outputs": [],
   "source": [
    "# PCA 降維\n",
    "def perform_pca_np(data, n_components=50):\n",
    "    print(\" [6] Performing PCA_NP...\")\n",
    "    data = data.astype(np.float32)\n",
    "    mean = np.mean(data, axis=0)\n",
    "    data_centered = data - mean\n",
    "    U, S, Vt = svds(data_centered, k=n_components)\n",
    "    return np.dot(data_centered, Vt.T)"
   ]
  },
  {
   "cell_type": "code",
   "execution_count": null,
   "metadata": {},
   "outputs": [],
   "source": [
    "# t-SNE 降維\n",
    "def perform_tsne_np(data, n_components=2, perplexity=30, learning_rate=500, max_iter=2000):\n",
    "    print(\" [7] Performing t-SNE_NP...\")\n",
    "    from sklearn.manifold import TSNE\n",
    "    tsne = TSNE(n_components=n_components, perplexity=perplexity, learning_rate=learning_rate, max_iter=max_iter)\n",
    "    return tsne.fit_transform(data)"
   ]
  },
  {
   "cell_type": "code",
   "execution_count": null,
   "metadata": {},
   "outputs": [],
   "source": [
    "# 繪製 t-SNE 圖形\n",
    "def plot_tsne(tsne_results, tissue_labels, output_path):\n",
    "    print(\" [8] Drawing t-SNE plot...\")\n",
    "    plt.figure(figsize=(19.2, 10.8))\n",
    "    sns.scatterplot(x=tsne_results[:, 0], y=tsne_results[:, 1], hue=tissue_labels, palette='Set2', s=50, edgecolor=\"black\", alpha=0.8)\n",
    "    plt.xlabel(\"t-SNE dimension 1\")\n",
    "    plt.ylabel(\"t-SNE dimension 2\")\n",
    "    plt.title(\"t-SNE visualization of GTEx Data\")\n",
    "    plt.legend(title=\"Tissues\", bbox_to_anchor=(1, 1), loc='upper left')\n",
    "    plt.tight_layout()  # 確保圖例不會超出畫布\n",
    "    plt.savefig(output_path, dpi=300)\n",
    "    print(f\" [i] t-SNE figure is saved as: {output_path}\")"
   ]
  },
  {
   "cell_type": "code",
   "execution_count": null,
   "metadata": {},
   "outputs": [],
   "source": [
    "# 主執行流程\n",
    "if __name__ == \"__main__\":\n",
    "    start = time.time()\n",
    "    gct_file = r\"/home/terry_0714/gct_data/GTEx_Analysis_2022-06-06_v10_RNASeQCv2.4.2_gene_tpm_non_lcm.gct\"\n",
    "    metadata_path = r\"/home/terry_0714/gct_data/GTEx_Analysis_v10_Annotations_SampleAttributesDS.tsv\"\n",
    "    output_image = r\"/home/terry_0714/tsne_plot/tsne_plot_new_6.png\"\n",
    "    # 讀取 GCT 檔案\n",
    "    df = load_gct(gct_file)\n",
    "    tissue_labels = load_metadata_labels(metadata_path, df.index)\n",
    "    \n",
    "    # 資料預處理\n",
    "    processed_data, shape = preprocess_data(df)\n",
    "    \n",
    "    # 資料降維\n",
    "    pca_data = perform_pca_np(processed_data)\n",
    "    \n",
    "    # t-SNE 降維\n",
    "    tsne_results = perform_tsne_np(pca_data)\n",
    "    \n",
    "    # 作圖\n",
    "    plot_tsne(tsne_results, tissue_labels, output_image)\n",
    "    print(\" [i] t-SNE analysis is completed.\")\n",
    "\n",
    "    end = time.time()\n",
    "    elapsed_time = int(end - start)\n",
    "    hours = elapsed_time // 3600\n",
    "    minutes = elapsed_time % 3600 // 60\n",
    "    seconds = elapsed_time % 60\n",
    "\n",
    "    print(f\" [i] Time spent: {hours} hours, {minutes} minutes and {seconds} seconds.\")"
   ]
  }
 ],
 "metadata": {
  "kernelspec": {
   "display_name": "hts_env",
   "language": "python",
   "name": "python3"
  },
  "language_info": {
   "codemirror_mode": {
    "name": "ipython",
    "version": 3
   },
   "file_extension": ".py",
   "mimetype": "text/x-python",
   "name": "python",
   "nbconvert_exporter": "python",
   "pygments_lexer": "ipython3",
   "version": "3.10.16"
  }
 },
 "nbformat": 4,
 "nbformat_minor": 2
}
